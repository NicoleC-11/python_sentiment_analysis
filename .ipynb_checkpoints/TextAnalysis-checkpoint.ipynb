{
 "cells": [
  {
   "cell_type": "markdown",
   "id": "3b6783da-0cac-43bf-8946-4d1cb2cfaf15",
   "metadata": {},
   "source": [
    "## Importing Libraries and Dataset"
   ]
  },
  {
   "cell_type": "code",
   "execution_count": 2,
   "id": "bb454d1a-e244-458a-afc6-678f0c42a5d5",
   "metadata": {},
   "outputs": [],
   "source": [
    "import pandas as pd\n",
    "import numpy as np\n",
    "import matplotlib.pyplot as plt\n",
    "import seaborn as sns\n",
    "\n",
    "plt.style.use('ggplot')\n",
    "\n",
    "# natural language toolkit for sentiment analysis\n",
    "import nltk"
   ]
  },
  {
   "cell_type": "markdown",
   "id": "937f9ed5-3035-410b-9995-ceaa9f2900cb",
   "metadata": {},
   "source": [
    "The datast we'll be using for testing the natural language toolkit is \"Amazon Fine Food Reviews\", published by Stanford Network Analysis Project to kaggle.com, located at https://www.kaggle.com/datasets/snap/amazon-fine-food-reviews.\n",
    "This is not the dataset we will be conducting our analysis on, but rather a demonstration to show the accuracy of the sentiment analysis. By comparing our sentiment analysis scores to the scores given on the reviews, we can confirm that our analysis is accurate."
   ]
  },
  {
   "cell_type": "code",
   "execution_count": 3,
   "id": "bd7558fe-8924-4acb-9093-e2892b9edbb5",
   "metadata": {},
   "outputs": [
    {
     "name": "stdout",
     "output_type": "stream",
     "text": [
      "(2999, 10)\n"
     ]
    }
   ],
   "source": [
    "# dataset is cut at 3000 rows for efficiency\n",
    "df = pd.read_csv('Reviews.csv')\n",
    "print(df.shape)"
   ]
  },
  {
   "cell_type": "code",
   "execution_count": 4,
   "id": "556c3e97-dcf8-409c-bb8e-f27299535e6d",
   "metadata": {
    "editable": true,
    "slideshow": {
     "slide_type": ""
    },
    "tags": []
   },
   "outputs": [
    {
     "data": {
      "text/html": [
       "<div>\n",
       "<style scoped>\n",
       "    .dataframe tbody tr th:only-of-type {\n",
       "        vertical-align: middle;\n",
       "    }\n",
       "\n",
       "    .dataframe tbody tr th {\n",
       "        vertical-align: top;\n",
       "    }\n",
       "\n",
       "    .dataframe thead th {\n",
       "        text-align: right;\n",
       "    }\n",
       "</style>\n",
       "<table border=\"1\" class=\"dataframe\">\n",
       "  <thead>\n",
       "    <tr style=\"text-align: right;\">\n",
       "      <th></th>\n",
       "      <th>Id</th>\n",
       "      <th>ProductId</th>\n",
       "      <th>UserId</th>\n",
       "      <th>ProfileName</th>\n",
       "      <th>HelpfulnessNumerator</th>\n",
       "      <th>HelpfulnessDenominator</th>\n",
       "      <th>Score</th>\n",
       "      <th>Time</th>\n",
       "      <th>Summary</th>\n",
       "      <th>Text</th>\n",
       "    </tr>\n",
       "  </thead>\n",
       "  <tbody>\n",
       "    <tr>\n",
       "      <th>0</th>\n",
       "      <td>1</td>\n",
       "      <td>B001E4KFG0</td>\n",
       "      <td>A3SGXH7AUHU8GW</td>\n",
       "      <td>delmartian</td>\n",
       "      <td>1</td>\n",
       "      <td>1</td>\n",
       "      <td>5</td>\n",
       "      <td>1303862400</td>\n",
       "      <td>Good Quality Dog Food</td>\n",
       "      <td>I have bought several of the Vitality canned d...</td>\n",
       "    </tr>\n",
       "    <tr>\n",
       "      <th>1</th>\n",
       "      <td>2</td>\n",
       "      <td>B00813GRG4</td>\n",
       "      <td>A1D87F6ZCVE5NK</td>\n",
       "      <td>dll pa</td>\n",
       "      <td>0</td>\n",
       "      <td>0</td>\n",
       "      <td>1</td>\n",
       "      <td>1346976000</td>\n",
       "      <td>Not as Advertised</td>\n",
       "      <td>Product arrived labeled as Jumbo Salted Peanut...</td>\n",
       "    </tr>\n",
       "    <tr>\n",
       "      <th>2</th>\n",
       "      <td>3</td>\n",
       "      <td>B000LQOCH0</td>\n",
       "      <td>ABXLMWJIXXAIN</td>\n",
       "      <td>Natalia Corres \"Natalia Corres\"</td>\n",
       "      <td>1</td>\n",
       "      <td>1</td>\n",
       "      <td>4</td>\n",
       "      <td>1219017600</td>\n",
       "      <td>\"Delight\" says it all</td>\n",
       "      <td>This is a confection that has been around a fe...</td>\n",
       "    </tr>\n",
       "    <tr>\n",
       "      <th>3</th>\n",
       "      <td>4</td>\n",
       "      <td>B000UA0QIQ</td>\n",
       "      <td>A395BORC6FGVXV</td>\n",
       "      <td>Karl</td>\n",
       "      <td>3</td>\n",
       "      <td>3</td>\n",
       "      <td>2</td>\n",
       "      <td>1307923200</td>\n",
       "      <td>Cough Medicine</td>\n",
       "      <td>If you are looking for the secret ingredient i...</td>\n",
       "    </tr>\n",
       "    <tr>\n",
       "      <th>4</th>\n",
       "      <td>5</td>\n",
       "      <td>B006K2ZZ7K</td>\n",
       "      <td>A1UQRSCLF8GW1T</td>\n",
       "      <td>Michael D. Bigham \"M. Wassir\"</td>\n",
       "      <td>0</td>\n",
       "      <td>0</td>\n",
       "      <td>5</td>\n",
       "      <td>1350777600</td>\n",
       "      <td>Great taffy</td>\n",
       "      <td>Great taffy at a great price.  There was a wid...</td>\n",
       "    </tr>\n",
       "  </tbody>\n",
       "</table>\n",
       "</div>"
      ],
      "text/plain": [
       "   Id   ProductId          UserId                      ProfileName  \\\n",
       "0   1  B001E4KFG0  A3SGXH7AUHU8GW                       delmartian   \n",
       "1   2  B00813GRG4  A1D87F6ZCVE5NK                           dll pa   \n",
       "2   3  B000LQOCH0   ABXLMWJIXXAIN  Natalia Corres \"Natalia Corres\"   \n",
       "3   4  B000UA0QIQ  A395BORC6FGVXV                             Karl   \n",
       "4   5  B006K2ZZ7K  A1UQRSCLF8GW1T    Michael D. Bigham \"M. Wassir\"   \n",
       "\n",
       "   HelpfulnessNumerator  HelpfulnessDenominator  Score        Time  \\\n",
       "0                     1                       1      5  1303862400   \n",
       "1                     0                       0      1  1346976000   \n",
       "2                     1                       1      4  1219017600   \n",
       "3                     3                       3      2  1307923200   \n",
       "4                     0                       0      5  1350777600   \n",
       "\n",
       "                 Summary                                               Text  \n",
       "0  Good Quality Dog Food  I have bought several of the Vitality canned d...  \n",
       "1      Not as Advertised  Product arrived labeled as Jumbo Salted Peanut...  \n",
       "2  \"Delight\" says it all  This is a confection that has been around a fe...  \n",
       "3         Cough Medicine  If you are looking for the secret ingredient i...  \n",
       "4            Great taffy  Great taffy at a great price.  There was a wid...  "
      ]
     },
     "execution_count": 4,
     "metadata": {},
     "output_type": "execute_result"
    }
   ],
   "source": [
    "df.head()"
   ]
  },
  {
   "cell_type": "markdown",
   "id": "26f4811e-0098-401d-b676-273b079a8c2a",
   "metadata": {},
   "source": [
    "# Preparing Test Data"
   ]
  },
  {
   "cell_type": "code",
   "execution_count": 5,
   "id": "5941dc24-d1f4-4bd9-81a3-3df31f3648ac",
   "metadata": {},
   "outputs": [
    {
     "data": {
      "image/png": "[encoded data removed]",
      "text/plain": [
       "<Figure size 1000x500 with 1 Axes>"
      ]
     },
     "metadata": {},
     "output_type": "display_data"
    }
   ],
   "source": [
    "reviewChart = df['Score'].value_counts().sort_index().plot(kind='bar', title='Number of Reviews by Stars', figsize = (10,5))\n",
    "reviewChart.set_xlabel('Review Stars')\n",
    "plt.show()"
   ]
  },
  {
   "cell_type": "code",
   "execution_count": 6,
   "id": "a5c4ad37-5dc0-4c67-a5c9-b2182a568194",
   "metadata": {},
   "outputs": [
    {
     "name": "stdout",
     "output_type": "stream",
     "text": [
      "This oatmeal is not good. Its mushy, soft, I don't like it. Quaker Oats is the way to go.\n"
     ]
    }
   ],
   "source": [
    "# take a random review as an example\n",
    "example = df['Text'][50]\n",
    "print(example)"
   ]
  },
  {
   "cell_type": "code",
   "execution_count": 7,
   "id": "6884016b-e6ea-43a8-8d1d-d5af42bd1359",
   "metadata": {},
   "outputs": [
    {
     "data": {
      "text/plain": [
       "['This', 'oatmeal', 'is', 'not', 'good', '.', 'Its', 'mushy', ',', 'soft']"
      ]
     },
     "execution_count": 7,
     "metadata": {},
     "output_type": "execute_result"
    }
   ],
   "source": [
    "# splits the review into individual strings, or \"tokens\", including punctuation\n",
    "tokens = nltk.word_tokenize(example)\n",
    "tokens[:10]"
   ]
  },
  {
   "cell_type": "code",
   "execution_count": 8,
   "id": "bdd2a67e-aca4-4c45-80b8-96bcdf18e4e4",
   "metadata": {},
   "outputs": [
    {
     "data": {
      "text/plain": [
       "[('This', 'DT'),\n",
       " ('oatmeal', 'NN'),\n",
       " ('is', 'VBZ'),\n",
       " ('not', 'RB'),\n",
       " ('good', 'JJ'),\n",
       " ('.', '.'),\n",
       " ('Its', 'PRP$'),\n",
       " ('mushy', 'NN'),\n",
       " (',', ','),\n",
       " ('soft', 'JJ')]"
      ]
     },
     "execution_count": 8,
     "metadata": {},
     "output_type": "execute_result"
    }
   ],
   "source": [
    "# tags each word with a marker that marks what part of a sentence it is (noun, adjective, etc.)\n",
    "tagged_tokens = nltk.pos_tag(tokens)\n",
    "tagged_tokens[:10]"
   ]
  },
  {
   "cell_type": "code",
   "execution_count": 9,
   "id": "aba88980-48ce-4b8d-b06e-001b29d93e58",
   "metadata": {},
   "outputs": [
    {
     "name": "stdout",
     "output_type": "stream",
     "text": [
      "(S\n",
      "  This/DT\n",
      "  oatmeal/NN\n",
      "  is/VBZ\n",
      "  not/RB\n",
      "  good/JJ\n",
      "  ./.\n",
      "  Its/PRP$\n",
      "  mushy/NN\n",
      "  ,/,\n",
      "  soft/JJ\n",
      "  ,/,\n",
      "  I/PRP\n",
      "  do/VBP\n",
      "  n't/RB\n",
      "  like/VB\n",
      "  it/PRP\n",
      "  ./.\n",
      "  (ORGANIZATION Quaker/NNP Oats/NNPS)\n",
      "  is/VBZ\n",
      "  the/DT\n",
      "  way/NN\n",
      "  to/TO\n",
      "  go/VB\n",
      "  ./.)\n"
     ]
    }
   ],
   "source": [
    "# takes a list of tagged tokens and groups them into chunks of text\n",
    "entities = nltk.chunk.ne_chunk(tagged_tokens)\n",
    "entities.pprint()"
   ]
  },
  {
   "cell_type": "markdown",
   "id": "25a793f6-4ee0-480f-905b-4a17f7b02c17",
   "metadata": {},
   "source": [
    "Once the words are appropriately tokenized, tagged, and chunked, we can use the sentiment intensity analyzer to determine how positive or negative each review is. To do this, we will need to repeat this process for the whole dataset, then analyze these tagged chunks."
   ]
  },
  {
   "cell_type": "markdown",
   "id": "2d489947-8963-4915-ac70-48e8f242d3d7",
   "metadata": {},
   "source": [
    "# Testing NLTK Sentiment Scoring\n",
    "We will use python's NLTK, or natural language toolkit, library in order to generate numerical scores for a review's overall sentiment towards an item. This toolkit uses a bag of words approach to approximate the positive or negative sentiment of each individual word, then averages the score of all the words to find the overall scoring. Notably, this approach does not account for context between words, since it only analyzes words individually. However, it provides a decent starting point to analyze sentiment."
   ]
  },
  {
   "cell_type": "code",
   "execution_count": 10,
   "id": "1bd1c873-21c4-4f7a-b8f3-70cd93bc0cb2",
   "metadata": {},
   "outputs": [],
   "source": [
    "from nltk.sentiment import SentimentIntensityAnalyzer\n",
    "from tqdm import tqdm\n",
    "\n",
    "sia = SentimentIntensityAnalyzer()"
   ]
  },
  {
   "cell_type": "code",
   "execution_count": 11,
   "id": "1a3d196b-93bd-4b0c-8e81-3d6b7a82d99d",
   "metadata": {},
   "outputs": [
    {
     "data": {
      "text/plain": [
       "{'neg': 0.0, 'neu': 0.318, 'pos': 0.682, 'compound': 0.6468}"
      ]
     },
     "execution_count": 11,
     "metadata": {},
     "output_type": "execute_result"
    }
   ],
   "source": [
    "sia.polarity_scores('I am so happy!')"
   ]
  },
  {
   "cell_type": "code",
   "execution_count": 12,
   "id": "ae357509-3d00-4b10-b427-9ce9d850a204",
   "metadata": {},
   "outputs": [
    {
     "data": {
      "text/plain": [
       "{'neg': 0.451, 'neu': 0.549, 'pos': 0.0, 'compound': -0.6249}"
      ]
     },
     "execution_count": 12,
     "metadata": {},
     "output_type": "execute_result"
    }
   ],
   "source": [
    "sia.polarity_scores('This is the worst thing ever.')"
   ]
  },
  {
   "cell_type": "code",
   "execution_count": 13,
   "id": "37b0f6ff-be10-494f-9bbd-ced55b381ce7",
   "metadata": {},
   "outputs": [
    {
     "data": {
      "text/plain": [
       "{'neg': 0.22, 'neu': 0.78, 'pos': 0.0, 'compound': -0.5448}"
      ]
     },
     "execution_count": 13,
     "metadata": {},
     "output_type": "execute_result"
    }
   ],
   "source": [
    "# example = 'This oatmeal is not good. Its mushy, soft, I don't like it. Quaker Oats is the way to go.'\n",
    "sia.polarity_scores(example)"
   ]
  },
  {
   "cell_type": "markdown",
   "id": "045f6a97-be3e-414e-8aab-0982b487b769",
   "metadata": {},
   "source": [
    "After running these examples, we can conclude that the scoring for the sentiment analysis is working properly. The first example was strongly positive, and resulted in a compound score of 0.65. The second example was negative, and produced a compound score of -0.62. Therefore, we can see that the values are scored from -1 to 1, with negative scores being negative sentiments, 0 being neutral, and 1 being positive.\n",
    "\n",
    "When we input our earlier example text from the dataset, which states \"This oatmeal is not good. Its mushy, soft, I don't like it. Quaker Oats is the way to go\", we find that we recieve a compound score of -0.54, which is reasonably negative for such a bad review. Since it appears to be working well on these examples, we will now run the sentiment analysis on the entire dataset and save the values to a dataframe."
   ]
  },
  {
   "cell_type": "code",
   "execution_count": 48,
   "id": "48302317-519e-47c9-9583-8a206de2d902",
   "metadata": {},
   "outputs": [
    {
     "name": "stderr",
     "output_type": "stream",
     "text": [
      "100%|██████████| 2999/2999 [00:02<00:00, 1390.69it/s]\n"
     ]
    }
   ],
   "source": [
    "# Run the polarity score on the entire dataset \n",
    "# note: this can take a while for large datasets, but the test dataset has been cut for speed\n",
    "result = {}\n",
    "for i, row in tqdm(df.iterrows(), total=len(df)):\n",
    "    text = row['Text']\n",
    "    myid = row['Id']\n",
    "    result[myid] = sia.polarity_scores(text)"
   ]
  },
  {
   "cell_type": "code",
   "execution_count": 49,
   "id": "a6aab0f5-8de8-4e03-adc8-b02e6c939caa",
   "metadata": {},
   "outputs": [],
   "source": [
    "# import results into a dataframe and flip the dataframe\n",
    "sentiment = pd.DataFrame(result).T\n",
    "# rename index\n",
    "sentiment = sentiment.reset_index().rename(columns={'index':'Id'})\n",
    "# left join sentiment scores with original data\n",
    "sentiment = sentiment.merge(df, how='left')"
   ]
  },
  {
   "cell_type": "code",
   "execution_count": 50,
   "id": "806532ff-50b1-4501-a730-19f0a48218bf",
   "metadata": {},
   "outputs": [
    {
     "data": {
      "text/html": [
       "<div>\n",
       "<style scoped>\n",
       "    .dataframe tbody tr th:only-of-type {\n",
       "        vertical-align: middle;\n",
       "    }\n",
       "\n",
       "    .dataframe tbody tr th {\n",
       "        vertical-align: top;\n",
       "    }\n",
       "\n",
       "    .dataframe thead th {\n",
       "        text-align: right;\n",
       "    }\n",
       "</style>\n",
       "<table border=\"1\" class=\"dataframe\">\n",
       "  <thead>\n",
       "    <tr style=\"text-align: right;\">\n",
       "      <th></th>\n",
       "      <th>Id</th>\n",
       "      <th>neg</th>\n",
       "      <th>neu</th>\n",
       "      <th>pos</th>\n",
       "      <th>compound</th>\n",
       "      <th>ProductId</th>\n",
       "      <th>UserId</th>\n",
       "      <th>ProfileName</th>\n",
       "      <th>HelpfulnessNumerator</th>\n",
       "      <th>HelpfulnessDenominator</th>\n",
       "      <th>Score</th>\n",
       "      <th>Time</th>\n",
       "      <th>Summary</th>\n",
       "      <th>Text</th>\n",
       "    </tr>\n",
       "  </thead>\n",
       "  <tbody>\n",
       "    <tr>\n",
       "      <th>0</th>\n",
       "      <td>1</td>\n",
       "      <td>0.000</td>\n",
       "      <td>0.695</td>\n",
       "      <td>0.305</td>\n",
       "      <td>0.9441</td>\n",
       "      <td>B001E4KFG0</td>\n",
       "      <td>A3SGXH7AUHU8GW</td>\n",
       "      <td>delmartian</td>\n",
       "      <td>1</td>\n",
       "      <td>1</td>\n",
       "      <td>5</td>\n",
       "      <td>1303862400</td>\n",
       "      <td>Good Quality Dog Food</td>\n",
       "      <td>I have bought several of the Vitality canned d...</td>\n",
       "    </tr>\n",
       "    <tr>\n",
       "      <th>1</th>\n",
       "      <td>2</td>\n",
       "      <td>0.138</td>\n",
       "      <td>0.862</td>\n",
       "      <td>0.000</td>\n",
       "      <td>-0.5664</td>\n",
       "      <td>B00813GRG4</td>\n",
       "      <td>A1D87F6ZCVE5NK</td>\n",
       "      <td>dll pa</td>\n",
       "      <td>0</td>\n",
       "      <td>0</td>\n",
       "      <td>1</td>\n",
       "      <td>1346976000</td>\n",
       "      <td>Not as Advertised</td>\n",
       "      <td>Product arrived labeled as Jumbo Salted Peanut...</td>\n",
       "    </tr>\n",
       "    <tr>\n",
       "      <th>2</th>\n",
       "      <td>3</td>\n",
       "      <td>0.091</td>\n",
       "      <td>0.754</td>\n",
       "      <td>0.155</td>\n",
       "      <td>0.8265</td>\n",
       "      <td>B000LQOCH0</td>\n",
       "      <td>ABXLMWJIXXAIN</td>\n",
       "      <td>Natalia Corres \"Natalia Corres\"</td>\n",
       "      <td>1</td>\n",
       "      <td>1</td>\n",
       "      <td>4</td>\n",
       "      <td>1219017600</td>\n",
       "      <td>\"Delight\" says it all</td>\n",
       "      <td>This is a confection that has been around a fe...</td>\n",
       "    </tr>\n",
       "    <tr>\n",
       "      <th>3</th>\n",
       "      <td>4</td>\n",
       "      <td>0.000</td>\n",
       "      <td>1.000</td>\n",
       "      <td>0.000</td>\n",
       "      <td>0.0000</td>\n",
       "      <td>B000UA0QIQ</td>\n",
       "      <td>A395BORC6FGVXV</td>\n",
       "      <td>Karl</td>\n",
       "      <td>3</td>\n",
       "      <td>3</td>\n",
       "      <td>2</td>\n",
       "      <td>1307923200</td>\n",
       "      <td>Cough Medicine</td>\n",
       "      <td>If you are looking for the secret ingredient i...</td>\n",
       "    </tr>\n",
       "    <tr>\n",
       "      <th>4</th>\n",
       "      <td>5</td>\n",
       "      <td>0.000</td>\n",
       "      <td>0.552</td>\n",
       "      <td>0.448</td>\n",
       "      <td>0.9468</td>\n",
       "      <td>B006K2ZZ7K</td>\n",
       "      <td>A1UQRSCLF8GW1T</td>\n",
       "      <td>Michael D. Bigham \"M. Wassir\"</td>\n",
       "      <td>0</td>\n",
       "      <td>0</td>\n",
       "      <td>5</td>\n",
       "      <td>1350777600</td>\n",
       "      <td>Great taffy</td>\n",
       "      <td>Great taffy at a great price.  There was a wid...</td>\n",
       "    </tr>\n",
       "  </tbody>\n",
       "</table>\n",
       "</div>"
      ],
      "text/plain": [
       "   Id    neg    neu    pos  compound   ProductId          UserId  \\\n",
       "0   1  0.000  0.695  0.305    0.9441  B001E4KFG0  A3SGXH7AUHU8GW   \n",
       "1   2  0.138  0.862  0.000   -0.5664  B00813GRG4  A1D87F6ZCVE5NK   \n",
       "2   3  0.091  0.754  0.155    0.8265  B000LQOCH0   ABXLMWJIXXAIN   \n",
       "3   4  0.000  1.000  0.000    0.0000  B000UA0QIQ  A395BORC6FGVXV   \n",
       "4   5  0.000  0.552  0.448    0.9468  B006K2ZZ7K  A1UQRSCLF8GW1T   \n",
       "\n",
       "                       ProfileName  HelpfulnessNumerator  \\\n",
       "0                       delmartian                     1   \n",
       "1                           dll pa                     0   \n",
       "2  Natalia Corres \"Natalia Corres\"                     1   \n",
       "3                             Karl                     3   \n",
       "4    Michael D. Bigham \"M. Wassir\"                     0   \n",
       "\n",
       "   HelpfulnessDenominator  Score        Time                Summary  \\\n",
       "0                       1      5  1303862400  Good Quality Dog Food   \n",
       "1                       0      1  1346976000      Not as Advertised   \n",
       "2                       1      4  1219017600  \"Delight\" says it all   \n",
       "3                       3      2  1307923200         Cough Medicine   \n",
       "4                       0      5  1350777600            Great taffy   \n",
       "\n",
       "                                                Text  \n",
       "0  I have bought several of the Vitality canned d...  \n",
       "1  Product arrived labeled as Jumbo Salted Peanut...  \n",
       "2  This is a confection that has been around a fe...  \n",
       "3  If you are looking for the secret ingredient i...  \n",
       "4  Great taffy at a great price.  There was a wid...  "
      ]
     },
     "execution_count": 50,
     "metadata": {},
     "output_type": "execute_result"
    }
   ],
   "source": [
    "sentiment.head()"
   ]
  },
  {
   "cell_type": "code",
   "execution_count": 51,
   "id": "65657f18-a8b7-4407-abd3-d3a84fe41a11",
   "metadata": {},
   "outputs": [
    {
     "name": "stdout",
     "output_type": "stream",
     "text": [
      "(2999, 14)\n"
     ]
    }
   ],
   "source": [
    "print(sentiment.shape)"
   ]
  },
  {
   "cell_type": "markdown",
   "id": "9f452bef-9bcf-40dc-a611-febc377729e6",
   "metadata": {},
   "source": [
    "# Plot Results"
   ]
  },
  {
   "cell_type": "code",
   "execution_count": 17,
   "id": "120fc11a-65a1-4f68-8bb3-0a2af2731b24",
   "metadata": {},
   "outputs": [
    {
     "data": {
      "text/plain": [
       "Text(0.5, 1.0, 'Compound Score by Amazon Star Review')"
      ]
     },
     "execution_count": 17,
     "metadata": {},
     "output_type": "execute_result"
    },
    {
     "data": {
      "image/png": "[encoded data removed]",
      "text/plain": [
       "<Figure size 640x480 with 1 Axes>"
      ]
     },
     "metadata": {},
     "output_type": "display_data"
    }
   ],
   "source": [
    "compound_graph = sns.barplot(data=sentiment, x='Score', y='compound')\n",
    "compound_graph.set_title('Compound Score by Amazon Star Review')"
   ]
  },
  {
   "cell_type": "markdown",
   "id": "076c6124-ca0f-47f8-8730-7bbf72800c1d",
   "metadata": {},
   "source": [
    "The compound score is an aggregation of the positive and negative scores for a statement, providing an overall sentiment. As we can see from this plot, the compound scores seem to generally follow the number of stars a review has given a product, which is a good sign. However, we can also check the positive, negative, and neutral scores to ensure they follow the star ratings as expected."
   ]
  },
  {
   "cell_type": "code",
   "execution_count": 18,
   "id": "52011575-8ee9-411d-8583-fb1f639a8340",
   "metadata": {},
   "outputs": [
    {
     "data": {
      "image/png": "[encoded data removed]",
      "text/plain": [
       "<Figure size 1200x500 with 3 Axes>"
      ]
     },
     "metadata": {},
     "output_type": "display_data"
    }
   ],
   "source": [
    "fig, axs = plt.subplots(1, 3, figsize=(12,5))\n",
    "sns.barplot(data=sentiment, x='Score', y='pos', ax=axs[0])\n",
    "sns.barplot(data=sentiment, x='Score', y='neu', ax=axs[1])\n",
    "sns.barplot(data=sentiment, x='Score', y='neg', ax=axs[2])\n",
    "axs[0].set_title('Positive')\n",
    "axs[1].set_title('Neutral')\n",
    "axs[2].set_title('Negative')\n",
    "plt.tight_layout()\n",
    "plt.show()"
   ]
  },
  {
   "cell_type": "markdown",
   "id": "fe2b1f33-67e7-456f-a909-228934e08d4c",
   "metadata": {},
   "source": [
    "The scores generally match the number of stars, as we would expect, and so we can conclude that this sentiment analysis is reasonably accurate, despite its shortcomings.\n",
    "\n",
    "Now that we have fully tested the sentiment of the dataset as a whole, we could choose to filter it and check the sentiments for specific criteria, such as reviews for certain items. However, since this dataset already had review scorings, that would provide little benefit over using the scores given by the writers themselves. A better use of this technology would be to run sentiment analysis on social media posts on a certain topic, such as using the social media sentiment towards a particular topic to help guide advertising decisions, which is what we will be doing. "
   ]
  },
  {
   "cell_type": "markdown",
   "id": "94e2fee8-2f70-4a36-9b21-24b7f2b331e0",
   "metadata": {},
   "source": [
    "# Sentiment Analysis on Twitter (X) Posts"
   ]
  },
  {
   "cell_type": "markdown",
   "id": "adc9f586-2b0d-4875-b266-ab92239852f8",
   "metadata": {},
   "source": [
    "Using another dataset uploaded to kaggle.com titled \"Twitter Dataset - #AvengersEndgame\" by Kavita Lolayekar, we can use sentiment analysis to determine the reception of a movie on X, formerly known as Twitter."
   ]
  },
  {
   "cell_type": "code",
   "execution_count": 40,
   "id": "196ba064-3a43-4d8a-8144-1918225d02dc",
   "metadata": {},
   "outputs": [
    {
     "name": "stdout",
     "output_type": "stream",
     "text": [
      "(15000, 17)\n"
     ]
    },
    {
     "data": {
      "text/html": [
       "<div>\n",
       "<style scoped>\n",
       "    .dataframe tbody tr th:only-of-type {\n",
       "        vertical-align: middle;\n",
       "    }\n",
       "\n",
       "    .dataframe tbody tr th {\n",
       "        vertical-align: top;\n",
       "    }\n",
       "\n",
       "    .dataframe thead th {\n",
       "        text-align: right;\n",
       "    }\n",
       "</style>\n",
       "<table border=\"1\" class=\"dataframe\">\n",
       "  <thead>\n",
       "    <tr style=\"text-align: right;\">\n",
       "      <th></th>\n",
       "      <th>index</th>\n",
       "      <th>text</th>\n",
       "      <th>favorited</th>\n",
       "      <th>favoriteCount</th>\n",
       "      <th>replyToSN</th>\n",
       "      <th>created</th>\n",
       "      <th>truncated</th>\n",
       "      <th>replyToSID</th>\n",
       "      <th>id</th>\n",
       "      <th>replyToUID</th>\n",
       "      <th>statusSource</th>\n",
       "      <th>screenName</th>\n",
       "      <th>retweetCount</th>\n",
       "      <th>isRetweet</th>\n",
       "      <th>retweeted</th>\n",
       "      <th>longitude</th>\n",
       "      <th>latitude</th>\n",
       "    </tr>\n",
       "  </thead>\n",
       "  <tbody>\n",
       "    <tr>\n",
       "      <th>0</th>\n",
       "      <td>1</td>\n",
       "      <td>RT @mrvelstan: literally nobody:\\r\\nme:\\r\\n\\r\\...</td>\n",
       "      <td>False</td>\n",
       "      <td>0</td>\n",
       "      <td>NaN</td>\n",
       "      <td>4/23/2019 10:43</td>\n",
       "      <td>False</td>\n",
       "      <td>NaN</td>\n",
       "      <td>1.120640e+18</td>\n",
       "      <td>NaN</td>\n",
       "      <td>&lt;a href=\"http://twitter.com/download/android\" ...</td>\n",
       "      <td>DavidAc96</td>\n",
       "      <td>637</td>\n",
       "      <td>True</td>\n",
       "      <td>False</td>\n",
       "      <td>NaN</td>\n",
       "      <td>NaN</td>\n",
       "    </tr>\n",
       "    <tr>\n",
       "      <th>1</th>\n",
       "      <td>2</td>\n",
       "      <td>RT @agntecarter: im emotional, sorry!!\\r\\n\\r\\...</td>\n",
       "      <td>False</td>\n",
       "      <td>0</td>\n",
       "      <td>NaN</td>\n",
       "      <td>4/23/2019 10:43</td>\n",
       "      <td>False</td>\n",
       "      <td>NaN</td>\n",
       "      <td>1.120640e+18</td>\n",
       "      <td>NaN</td>\n",
       "      <td>&lt;a href=\"http://twitter.com/download/iphone\" r...</td>\n",
       "      <td>NRmalaa</td>\n",
       "      <td>302</td>\n",
       "      <td>True</td>\n",
       "      <td>False</td>\n",
       "      <td>NaN</td>\n",
       "      <td>NaN</td>\n",
       "    </tr>\n",
       "    <tr>\n",
       "      <th>2</th>\n",
       "      <td>3</td>\n",
       "      <td>saving these bingo cards for tomorrow \\r\\n©\\r\\...</td>\n",
       "      <td>False</td>\n",
       "      <td>0</td>\n",
       "      <td>NaN</td>\n",
       "      <td>4/23/2019 10:43</td>\n",
       "      <td>False</td>\n",
       "      <td>NaN</td>\n",
       "      <td>1.120640e+18</td>\n",
       "      <td>NaN</td>\n",
       "      <td>&lt;a href=\"http://twitter.com/download/iphone\" r...</td>\n",
       "      <td>jijitsuu</td>\n",
       "      <td>0</td>\n",
       "      <td>False</td>\n",
       "      <td>False</td>\n",
       "      <td>NaN</td>\n",
       "      <td>NaN</td>\n",
       "    </tr>\n",
       "    <tr>\n",
       "      <th>3</th>\n",
       "      <td>4</td>\n",
       "      <td>RT @HelloBoon: Man these #AvengersEndgame ads ...</td>\n",
       "      <td>False</td>\n",
       "      <td>0</td>\n",
       "      <td>NaN</td>\n",
       "      <td>4/23/2019 10:43</td>\n",
       "      <td>False</td>\n",
       "      <td>NaN</td>\n",
       "      <td>1.120640e+18</td>\n",
       "      <td>NaN</td>\n",
       "      <td>&lt;a href=\"http://twitter.com/download/iphone\" r...</td>\n",
       "      <td>SahapunB</td>\n",
       "      <td>23781</td>\n",
       "      <td>True</td>\n",
       "      <td>False</td>\n",
       "      <td>NaN</td>\n",
       "      <td>NaN</td>\n",
       "    </tr>\n",
       "    <tr>\n",
       "      <th>4</th>\n",
       "      <td>5</td>\n",
       "      <td>RT @Marvel: We salute you, @ChrisEvans! #Capta...</td>\n",
       "      <td>False</td>\n",
       "      <td>0</td>\n",
       "      <td>NaN</td>\n",
       "      <td>4/23/2019 10:43</td>\n",
       "      <td>False</td>\n",
       "      <td>NaN</td>\n",
       "      <td>1.120640e+18</td>\n",
       "      <td>NaN</td>\n",
       "      <td>&lt;a href=\"http://twitter.com/download/iphone\" r...</td>\n",
       "      <td>stella22_97</td>\n",
       "      <td>13067</td>\n",
       "      <td>True</td>\n",
       "      <td>False</td>\n",
       "      <td>NaN</td>\n",
       "      <td>NaN</td>\n",
       "    </tr>\n",
       "  </tbody>\n",
       "</table>\n",
       "</div>"
      ],
      "text/plain": [
       "   index                                               text  favorited  \\\n",
       "0      1  RT @mrvelstan: literally nobody:\\r\\nme:\\r\\n\\r\\...      False   \n",
       "1      2  RT @agntecarter: im emotional, sorry!!\\r\\n\\r\\...      False   \n",
       "2      3  saving these bingo cards for tomorrow \\r\\n©\\r\\...      False   \n",
       "3      4  RT @HelloBoon: Man these #AvengersEndgame ads ...      False   \n",
       "4      5  RT @Marvel: We salute you, @ChrisEvans! #Capta...      False   \n",
       "\n",
       "   favoriteCount replyToSN          created  truncated  replyToSID  \\\n",
       "0              0       NaN  4/23/2019 10:43      False         NaN   \n",
       "1              0       NaN  4/23/2019 10:43      False         NaN   \n",
       "2              0       NaN  4/23/2019 10:43      False         NaN   \n",
       "3              0       NaN  4/23/2019 10:43      False         NaN   \n",
       "4              0       NaN  4/23/2019 10:43      False         NaN   \n",
       "\n",
       "             id  replyToUID  \\\n",
       "0  1.120640e+18         NaN   \n",
       "1  1.120640e+18         NaN   \n",
       "2  1.120640e+18         NaN   \n",
       "3  1.120640e+18         NaN   \n",
       "4  1.120640e+18         NaN   \n",
       "\n",
       "                                        statusSource   screenName  \\\n",
       "0  <a href=\"http://twitter.com/download/android\" ...    DavidAc96   \n",
       "1  <a href=\"http://twitter.com/download/iphone\" r...      NRmalaa   \n",
       "2  <a href=\"http://twitter.com/download/iphone\" r...     jijitsuu   \n",
       "3  <a href=\"http://twitter.com/download/iphone\" r...     SahapunB   \n",
       "4  <a href=\"http://twitter.com/download/iphone\" r...  stella22_97   \n",
       "\n",
       "   retweetCount  isRetweet  retweeted  longitude  latitude  \n",
       "0           637       True      False        NaN       NaN  \n",
       "1           302       True      False        NaN       NaN  \n",
       "2             0      False      False        NaN       NaN  \n",
       "3         23781       True      False        NaN       NaN  \n",
       "4         13067       True      False        NaN       NaN  "
      ]
     },
     "execution_count": 40,
     "metadata": {},
     "output_type": "execute_result"
    }
   ],
   "source": [
    "tweets = pd.read_csv('tweets.csv', encoding= 'unicode_escape')\n",
    "print(tweets.shape)\n",
    "tweets.head()"
   ]
  },
  {
   "cell_type": "markdown",
   "id": "3de374ee-41cf-4c2e-b2bf-8eb2a7084540",
   "metadata": {},
   "source": [
    "result = {}\n",
    "for i, row in tqdm(df.iterrows(), total=len(df)):\n",
    "    text = row['Text']\n",
    "    myid = row['Id']\n",
    "    result[myid] = sia.polarity_scores(text)"
   ]
  },
  {
   "cell_type": "code",
   "execution_count": 41,
   "id": "65a20de3-35d7-4966-8633-ce257a65acab",
   "metadata": {},
   "outputs": [
    {
     "data": {
      "text/plain": [
       "15000"
      ]
     },
     "execution_count": 41,
     "metadata": {},
     "output_type": "execute_result"
    }
   ],
   "source": [
    "len(tweets)"
   ]
  },
  {
   "cell_type": "code",
   "execution_count": 46,
   "id": "7d286d03-0e09-4d1c-b821-a47006bfae54",
   "metadata": {},
   "outputs": [
    {
     "name": "stderr",
     "output_type": "stream",
     "text": [
      "100%|██████████| 15000/15000 [00:03<00:00, 4761.57it/s]\n"
     ]
    }
   ],
   "source": [
    "# Run the polarity score on the entire dataset\n",
    "# note: this can take a while\n",
    "result2 = {}\n",
    "for i, row in tqdm(tweets.iterrows(), total=len(tweets)):\n",
    "    text = row['text']\n",
    "    myid = row['index']\n",
    "    result2[myid] = sia.polarity_scores(text)"
   ]
  },
  {
   "cell_type": "code",
   "execution_count": 47,
   "id": "8d62410d-5fd5-4adc-a8ab-37e6a9cee0bb",
   "metadata": {},
   "outputs": [
    {
     "data": {
      "text/html": [
       "<div>\n",
       "<style scoped>\n",
       "    .dataframe tbody tr th:only-of-type {\n",
       "        vertical-align: middle;\n",
       "    }\n",
       "\n",
       "    .dataframe tbody tr th {\n",
       "        vertical-align: top;\n",
       "    }\n",
       "\n",
       "    .dataframe thead th {\n",
       "        text-align: right;\n",
       "    }\n",
       "</style>\n",
       "<table border=\"1\" class=\"dataframe\">\n",
       "  <thead>\n",
       "    <tr style=\"text-align: right;\">\n",
       "      <th></th>\n",
       "      <th>index</th>\n",
       "      <th>neg</th>\n",
       "      <th>neu</th>\n",
       "      <th>pos</th>\n",
       "      <th>compound</th>\n",
       "      <th>text</th>\n",
       "      <th>favorited</th>\n",
       "      <th>favoriteCount</th>\n",
       "      <th>replyToSN</th>\n",
       "      <th>created</th>\n",
       "      <th>...</th>\n",
       "      <th>replyToSID</th>\n",
       "      <th>id</th>\n",
       "      <th>replyToUID</th>\n",
       "      <th>statusSource</th>\n",
       "      <th>screenName</th>\n",
       "      <th>retweetCount</th>\n",
       "      <th>isRetweet</th>\n",
       "      <th>retweeted</th>\n",
       "      <th>longitude</th>\n",
       "      <th>latitude</th>\n",
       "    </tr>\n",
       "  </thead>\n",
       "  <tbody>\n",
       "    <tr>\n",
       "      <th>0</th>\n",
       "      <td>1</td>\n",
       "      <td>0.000</td>\n",
       "      <td>1.000</td>\n",
       "      <td>0.00</td>\n",
       "      <td>0.0000</td>\n",
       "      <td>RT @mrvelstan: literally nobody:\\r\\nme:\\r\\n\\r\\...</td>\n",
       "      <td>False</td>\n",
       "      <td>0</td>\n",
       "      <td>NaN</td>\n",
       "      <td>4/23/2019 10:43</td>\n",
       "      <td>...</td>\n",
       "      <td>NaN</td>\n",
       "      <td>1.120640e+18</td>\n",
       "      <td>NaN</td>\n",
       "      <td>&lt;a href=\"http://twitter.com/download/android\" ...</td>\n",
       "      <td>DavidAc96</td>\n",
       "      <td>637</td>\n",
       "      <td>True</td>\n",
       "      <td>False</td>\n",
       "      <td>NaN</td>\n",
       "      <td>NaN</td>\n",
       "    </tr>\n",
       "    <tr>\n",
       "      <th>1</th>\n",
       "      <td>2</td>\n",
       "      <td>0.113</td>\n",
       "      <td>0.697</td>\n",
       "      <td>0.19</td>\n",
       "      <td>0.2225</td>\n",
       "      <td>RT @agntecarter: im emotional, sorry!!\\r\\n\\r\\...</td>\n",
       "      <td>False</td>\n",
       "      <td>0</td>\n",
       "      <td>NaN</td>\n",
       "      <td>4/23/2019 10:43</td>\n",
       "      <td>...</td>\n",
       "      <td>NaN</td>\n",
       "      <td>1.120640e+18</td>\n",
       "      <td>NaN</td>\n",
       "      <td>&lt;a href=\"http://twitter.com/download/iphone\" r...</td>\n",
       "      <td>NRmalaa</td>\n",
       "      <td>302</td>\n",
       "      <td>True</td>\n",
       "      <td>False</td>\n",
       "      <td>NaN</td>\n",
       "      <td>NaN</td>\n",
       "    </tr>\n",
       "    <tr>\n",
       "      <th>2</th>\n",
       "      <td>3</td>\n",
       "      <td>0.000</td>\n",
       "      <td>1.000</td>\n",
       "      <td>0.00</td>\n",
       "      <td>0.0000</td>\n",
       "      <td>saving these bingo cards for tomorrow \\r\\n©\\r\\...</td>\n",
       "      <td>False</td>\n",
       "      <td>0</td>\n",
       "      <td>NaN</td>\n",
       "      <td>4/23/2019 10:43</td>\n",
       "      <td>...</td>\n",
       "      <td>NaN</td>\n",
       "      <td>1.120640e+18</td>\n",
       "      <td>NaN</td>\n",
       "      <td>&lt;a href=\"http://twitter.com/download/iphone\" r...</td>\n",
       "      <td>jijitsuu</td>\n",
       "      <td>0</td>\n",
       "      <td>False</td>\n",
       "      <td>False</td>\n",
       "      <td>NaN</td>\n",
       "      <td>NaN</td>\n",
       "    </tr>\n",
       "    <tr>\n",
       "      <th>3</th>\n",
       "      <td>4</td>\n",
       "      <td>0.000</td>\n",
       "      <td>1.000</td>\n",
       "      <td>0.00</td>\n",
       "      <td>0.0000</td>\n",
       "      <td>RT @HelloBoon: Man these #AvengersEndgame ads ...</td>\n",
       "      <td>False</td>\n",
       "      <td>0</td>\n",
       "      <td>NaN</td>\n",
       "      <td>4/23/2019 10:43</td>\n",
       "      <td>...</td>\n",
       "      <td>NaN</td>\n",
       "      <td>1.120640e+18</td>\n",
       "      <td>NaN</td>\n",
       "      <td>&lt;a href=\"http://twitter.com/download/iphone\" r...</td>\n",
       "      <td>SahapunB</td>\n",
       "      <td>23781</td>\n",
       "      <td>True</td>\n",
       "      <td>False</td>\n",
       "      <td>NaN</td>\n",
       "      <td>NaN</td>\n",
       "    </tr>\n",
       "    <tr>\n",
       "      <th>4</th>\n",
       "      <td>5</td>\n",
       "      <td>0.000</td>\n",
       "      <td>1.000</td>\n",
       "      <td>0.00</td>\n",
       "      <td>0.0000</td>\n",
       "      <td>RT @Marvel: We salute you, @ChrisEvans! #Capta...</td>\n",
       "      <td>False</td>\n",
       "      <td>0</td>\n",
       "      <td>NaN</td>\n",
       "      <td>4/23/2019 10:43</td>\n",
       "      <td>...</td>\n",
       "      <td>NaN</td>\n",
       "      <td>1.120640e+18</td>\n",
       "      <td>NaN</td>\n",
       "      <td>&lt;a href=\"http://twitter.com/download/iphone\" r...</td>\n",
       "      <td>stella22_97</td>\n",
       "      <td>13067</td>\n",
       "      <td>True</td>\n",
       "      <td>False</td>\n",
       "      <td>NaN</td>\n",
       "      <td>NaN</td>\n",
       "    </tr>\n",
       "  </tbody>\n",
       "</table>\n",
       "<p>5 rows × 21 columns</p>\n",
       "</div>"
      ],
      "text/plain": [
       "   index    neg    neu   pos  compound  \\\n",
       "0      1  0.000  1.000  0.00    0.0000   \n",
       "1      2  0.113  0.697  0.19    0.2225   \n",
       "2      3  0.000  1.000  0.00    0.0000   \n",
       "3      4  0.000  1.000  0.00    0.0000   \n",
       "4      5  0.000  1.000  0.00    0.0000   \n",
       "\n",
       "                                                text  favorited  \\\n",
       "0  RT @mrvelstan: literally nobody:\\r\\nme:\\r\\n\\r\\...      False   \n",
       "1  RT @agntecarter: im emotional, sorry!!\\r\\n\\r\\...      False   \n",
       "2  saving these bingo cards for tomorrow \\r\\n©\\r\\...      False   \n",
       "3  RT @HelloBoon: Man these #AvengersEndgame ads ...      False   \n",
       "4  RT @Marvel: We salute you, @ChrisEvans! #Capta...      False   \n",
       "\n",
       "   favoriteCount replyToSN          created  ...  replyToSID            id  \\\n",
       "0              0       NaN  4/23/2019 10:43  ...         NaN  1.120640e+18   \n",
       "1              0       NaN  4/23/2019 10:43  ...         NaN  1.120640e+18   \n",
       "2              0       NaN  4/23/2019 10:43  ...         NaN  1.120640e+18   \n",
       "3              0       NaN  4/23/2019 10:43  ...         NaN  1.120640e+18   \n",
       "4              0       NaN  4/23/2019 10:43  ...         NaN  1.120640e+18   \n",
       "\n",
       "   replyToUID                                       statusSource   screenName  \\\n",
       "0         NaN  <a href=\"http://twitter.com/download/android\" ...    DavidAc96   \n",
       "1         NaN  <a href=\"http://twitter.com/download/iphone\" r...      NRmalaa   \n",
       "2         NaN  <a href=\"http://twitter.com/download/iphone\" r...     jijitsuu   \n",
       "3         NaN  <a href=\"http://twitter.com/download/iphone\" r...     SahapunB   \n",
       "4         NaN  <a href=\"http://twitter.com/download/iphone\" r...  stella22_97   \n",
       "\n",
       "  retweetCount  isRetweet  retweeted  longitude  latitude  \n",
       "0          637       True      False        NaN       NaN  \n",
       "1          302       True      False        NaN       NaN  \n",
       "2            0      False      False        NaN       NaN  \n",
       "3        23781       True      False        NaN       NaN  \n",
       "4        13067       True      False        NaN       NaN  \n",
       "\n",
       "[5 rows x 21 columns]"
      ]
     },
     "execution_count": 47,
     "metadata": {},
     "output_type": "execute_result"
    }
   ],
   "source": [
    "# import results into a dataframe and flip the dataframe\n",
    "tweet_sentiment = pd.DataFrame(result2).T\n",
    "# rename index\n",
    "tweet_sentiment = tweet_sentiment.reset_index()\n",
    "\n",
    "# left join sentiment scores with original data\n",
    "tweet_sentiment = tweet_sentiment.merge(tweets, how='left')\n",
    "tweet_sentiment.head()"
   ]
  },
  {
   "cell_type": "code",
   "execution_count": null,
   "id": "55ee5215-7859-4d61-b6b2-3316e6bfe5f5",
   "metadata": {},
   "outputs": [],
   "source": []
  }
 ],
 "metadata": {
  "kernelspec": {
   "display_name": "Python 3 (ipykernel)",
   "language": "python",
   "name": "python3"
  },
  "language_info": {
   "codemirror_mode": {
    "name": "ipython",
    "version": 3
   },
   "file_extension": ".py",
   "mimetype": "text/x-python",
   "name": "python",
   "nbconvert_exporter": "python",
   "pygments_lexer": "ipython3",
   "version": "3.11.5"
  }
 },
 "nbformat": 4,
 "nbformat_minor": 5
}
